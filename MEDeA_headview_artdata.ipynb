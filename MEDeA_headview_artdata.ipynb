{
 "cells": [
  {
   "cell_type": "code",
   "execution_count": 1,
   "metadata": {
    "pycharm": {
     "is_executing": false
    }
   },
   "outputs": [],
   "source": [
    "from bertviz import head_view\n",
    "#from transformers import BertTokenizer, BertModel"
   ]
  },
  {
   "cell_type": "code",
   "execution_count": 2,
   "metadata": {},
   "outputs": [],
   "source": [
    "import os"
   ]
  },
  {
   "cell_type": "code",
   "execution_count": 3,
   "metadata": {},
   "outputs": [
    {
     "name": "stdout",
     "output_type": "stream",
     "text": [
      "Changed the global seed : 0 -> 0\n"
     ]
    }
   ],
   "source": [
    "# Adding module to sys path\n",
    "import sys\n",
    "sys.path.append(\"../MEDeA/\")\n",
    "# RNN imports\n",
    "import medea\n",
    "from medea import torch, numpy as np"
   ]
  },
  {
   "cell_type": "code",
   "execution_count": 4,
   "metadata": {},
   "outputs": [],
   "source": [
    "from medea.models.composite_model import CompositeModel\n",
    "from medea.training.model_trainer import ModelTrainer\n",
    "from medea.inputs.data.build_and_embed.data_builder import DatasetBuilderEmbedder\n",
    "from medea.inputs.data.read import MedeaDatasetReader, get_all_phones, get_all_phones_to_frequency\n",
    "from medea.inputs.parameters.embeddings import EmbeddingParams, EmbeddingParamsOneLang\n",
    "from medea.utils.shuffling import ShuffleType\n",
    "from medea.utils import BatchInfo"
   ]
  },
  {
   "cell_type": "code",
   "execution_count": 5,
   "metadata": {
    "pycharm": {
     "is_executing": false
    }
   },
   "outputs": [
    {
     "data": {
      "application/javascript": [
       "require.config({\n",
       "  paths: {\n",
       "      d3: '//cdnjs.cloudflare.com/ajax/libs/d3/3.4.8/d3.min',\n",
       "      jquery: '//ajax.googleapis.com/ajax/libs/jquery/2.0.0/jquery.min',\n",
       "  }\n",
       "});\n"
      ],
      "text/plain": [
       "<IPython.core.display.Javascript object>"
      ]
     },
     "metadata": {},
     "output_type": "display_data"
    }
   ],
   "source": [
    "%%javascript\n",
    "require.config({\n",
    "  paths: {\n",
    "      d3: '//cdnjs.cloudflare.com/ajax/libs/d3/3.4.8/d3.min',\n",
    "      jquery: '//ajax.googleapis.com/ajax/libs/jquery/2.0.0/jquery.min',\n",
    "  }\n",
    "});"
   ]
  },
  {
   "cell_type": "markdown",
   "metadata": {},
   "source": [
    "## Data"
   ]
  },
  {
   "cell_type": "code",
   "execution_count": 7,
   "metadata": {},
   "outputs": [
    {
     "name": "stdout",
     "output_type": "stream",
     "text": [
      "[INFO] By setting the padding length to -1, you mean that you do not want padding.\n",
      "[INFO] 23017 duplicate words present in set 'Transfo' were removed.\n"
     ]
    }
   ],
   "source": [
    "path_params = \"../MEDeA/datasets/file_parameters/default/\"\n",
    "path_data = \"../MEDeA/datasets/transformer_data/\"\n",
    "langs=[\"pl\", \"d1\"]\n",
    "test_data = MedeaDatasetReader(folder_path=path_data, langs=langs, name=\"Transfo\", phonetized=True)\n",
    "\n",
    "tokens = [\"EOW\"] + langs\n",
    "phones = [p for p in set(get_all_phones(path_data, [langs])) if p not in tokens]\n",
    "\n",
    "all_words = sorted(phones)\n",
    "vocab_dim = len(all_words) + len(tokens)\n",
    "\n",
    "embed_1_params = EmbeddingParamsOneLang.from_json_file(f\"{path_params}embed_1_parameters.json\")\n",
    "embed_params = {}\n",
    "for lang in langs:\n",
    "    embed_params[lang] = embed_1_params\n",
    "    embed_params[lang].phone_embedding.phone_categories = list(all_words)\n",
    "    embed_params[lang].pseudotoken_embedding.list = tokens\n",
    "embed_params = EmbeddingParams(embed_params)\n",
    "\n",
    "# Used for finetuning - we keep all the pairs\n",
    "train_set = DatasetBuilderEmbedder.build(data_list=[test_data], parameters=embed_params)"
   ]
  },
  {
   "cell_type": "code",
   "execution_count": null,
   "metadata": {},
   "outputs": [],
   "source": [
    "\n",
    "path_params = \"../MEDeA/datasets/file_parameters/default/\"\n",
    "path_data = \"../MEDeA/datasets/generated/Proto_2_children/\"\n",
    "langs=[\"ic0\", \"ic1\", \"ic2\"]\n",
    "test_data = MedeaDatasetReader(folder_path=path_data, langs=langs, name=\"Transfo\", phonetized=True)\n",
    "\n",
    "tokens = [\"EOW\"] + langs\n",
    "phones = [p for p in set(get_all_phones(path_data, [langs])) if p not in tokens]\n",
    "\n",
    "all_words = sorted(phones)\n",
    "vocab_dim = len(all_words) + len(tokens)\n",
    "\n",
    "embed_1_params = EmbeddingParamsOneLang.from_json_file(f\"{path_params}embed_1_parameters.json\")\n",
    "embed_params = {}\n",
    "for lang in langs:\n",
    "    embed_params[lang] = embed_1_params\n",
    "    embed_params[lang].phone_embedding.phone_categories = list(all_words)\n",
    "    embed_params[lang].pseudotoken_embedding.list = tokens\n",
    "embed_params = EmbeddingParams(embed_params)\n",
    "\n",
    "# Used for finetuning - we keep all the pairs\n",
    "train_set = DatasetBuilderEmbedder.build(data_list=[test_data], parameters=embed_params)"
   ]
  },
  {
   "cell_type": "code",
   "execution_count": 8,
   "metadata": {},
   "outputs": [],
   "source": [
    "batches = train_set.to_batch(ShuffleType.NONE, batch_size=1, \n",
    "                             langs=langs, lang_of_reference_for_shuffling=langs[0])\n",
    "batch_info = train_set.get_batch_info()"
   ]
  },
  {
   "cell_type": "code",
   "execution_count": 9,
   "metadata": {},
   "outputs": [],
   "source": [
    "#train_set.data[\"es\"].data_origin.index(['enfermar']) #'ira' 797"
   ]
  },
  {
   "cell_type": "code",
   "execution_count": 10,
   "metadata": {},
   "outputs": [],
   "source": [
    "batch = batches[0]"
   ]
  },
  {
   "cell_type": "code",
   "execution_count": 11,
   "metadata": {},
   "outputs": [],
   "source": [
    "in_lang = langs[0]\n",
    "out_lang = langs[1]"
   ]
  },
  {
   "cell_type": "code",
   "execution_count": 12,
   "metadata": {},
   "outputs": [
    {
     "data": {
      "text/plain": [
       "defaultdict(list,\n",
       "            {'pl': [tensor([29.,  1.,  0., 15., 22., 27., 28.])],\n",
       "             'd1': [tensor([30.,  1.,  0.,  7., 22.,  7., 28.])]})"
      ]
     },
     "execution_count": 12,
     "metadata": {},
     "output_type": "execute_result"
    }
   ],
   "source": [
    "batch"
   ]
  },
  {
   "cell_type": "markdown",
   "metadata": {},
   "source": [
    "## Model"
   ]
  },
  {
   "cell_type": "code",
   "execution_count": 34,
   "metadata": {},
   "outputs": [],
   "source": [
    "seed = 0\n",
    "epoch = 20\n",
    "num_head = 2\n",
    "lr = 0.001\n",
    "bs = 10\n",
    "\n",
    "#model_path = os.path.expanduser(\"/Users/cfourrie/Desktop/TACL_experiments_new/Experiment2/\" + \\\n",
    "#            f\"Transformer{num_head}head_16_36_{seed}/results/experiment/models/epoch_{epoch}/\")\n",
    "model_path = os.path.expanduser(\"../MEDeA/runs/\" + \\\n",
    "            f\"Transformer{num_head}head_{lr}_{bs}_{seed}/results/experiment/models/epoch_{epoch}/\")\n",
    "\n",
    "model = CompositeModel.load(model_path)\n"
   ]
  },
  {
   "cell_type": "code",
   "execution_count": 35,
   "metadata": {},
   "outputs": [],
   "source": [
    "train = False\n",
    "if train:\n",
    "    predictions, _ = model.predict(batch, batch_info)\n",
    "    _, attn = model(batch, batch_info, gold_target={\"decoder\":batch})\n",
    "else:\n",
    "    predictions, attn = model.predict(batch, batch_info)"
   ]
  },
  {
   "cell_type": "code",
   "execution_count": 36,
   "metadata": {},
   "outputs": [],
   "source": [
    "\n",
    "local_prediction = [\n",
    "    train_set[out_lang].ix_to_item[int(c)]\n",
    "    for c in predictions[\"decoder\"][f\"{in_lang}_{out_lang}\"][0][0]\n",
    "]\n",
    "local_target = [\n",
    "    train_set[out_lang].ix_to_item[int(c)]\n",
    "    for c in batch[out_lang][0]\n",
    "]\n",
    "local_input = [\n",
    "    train_set[in_lang].ix_to_item[int(c)]\n",
    "    for c in batch[in_lang][0]\n",
    "]\n",
    "\n",
    "if train:\n",
    "    if \"Transformer\" in model_path:\n",
    "        local_self_attn = torch.stack(\n",
    "            [attn[f\"{in_lang}_{out_lang}\"][f\"decoder_self_attn/layer0_head{h}\"]\n",
    "             for h in range(num_head)]).transpose(0, 1)\n",
    "\n",
    "        local_enc_attn = torch.stack(\n",
    "            [attn[f\"{in_lang}_{out_lang}\"][f\"encoder_attn/layer0_head{h}\"]\n",
    "             for h in range(num_head)]).transpose(0, 1)\n",
    "        local_attn = torch.stack(\n",
    "            [attn[f\"{in_lang}_{out_lang}\"][f\"decoder_attn/layer0_head{h}\"]\n",
    "             for h in range(num_head)]).transpose(0, 1)\n",
    "    else:\n",
    "        local_attn = attn[f\"{in_lang}_{out_lang}\"][f\"decoder_attn\"].unsqueeze(0)\n",
    "else:\n",
    "    if \"Transformer\" in model_path:\n",
    "        local_self_attn = torch.stack(\n",
    "            [attn[f\"{in_lang}_{out_lang}\"][0][f\"decoder_self_attn/layer0_head{h}\"]\n",
    "             for h in range(num_head)]).unsqueeze(0)\n",
    "\n",
    "        local_enc_attn = torch.stack(\n",
    "            [attn[f\"{in_lang}_{out_lang}\"][0][f\"encoder_attn/layer0_head{h}\"]\n",
    "             for h in range(num_head)], dim=0).transpose(0, 1)\n",
    "        local_attn = torch.stack(\n",
    "            [attn[f\"{in_lang}_{out_lang}\"][0][f\"decoder_attn/layer0_head{h}\"]\n",
    "             for h in range(num_head)]).unsqueeze(0)\n",
    "    else:\n",
    "        local_attn = attn[f\"{in_lang}_{out_lang}\"][0][f\"decoder_attn\"].unsqueeze(0)\n"
   ]
  },
  {
   "cell_type": "code",
   "execution_count": 37,
   "metadata": {},
   "outputs": [
    {
     "name": "stdout",
     "output_type": "stream",
     "text": [
      "batəʒ => bakək\n",
      "Decoder self attention\n"
     ]
    },
    {
     "data": {
      "text/html": [
       "\n",
       "          <span style=\"user-select:none\">\n",
       "            Layer: <select id=\"layer\"></select>\n",
       "          </span>\n",
       "          <div id='vis'></div> \n",
       "        "
      ],
      "text/plain": [
       "<IPython.core.display.HTML object>"
      ]
     },
     "metadata": {},
     "output_type": "display_data"
    },
    {
     "data": {
      "application/javascript": [
       "window.params = {\"attention\": {\"all\": {\"attn\": [[[[1.0, 0.0, 0.0, 0.0, 0.0, 0.0], [0.8672122955322266, 0.13278768956661224, 0.0, 0.0, 0.0, 0.0], [0.35351940989494324, 0.34808841347694397, 0.2983922064304352, 0.0, 0.0, 0.0], [0.06047176569700241, 0.0989791601896286, 0.2524764835834503, 0.588072657585144, 0.0, 0.0], [0.012530505657196045, 0.02044445089995861, 0.0590769462287426, 0.5743839144706726, 0.33356422185897827, 0.0], [0.004407435655593872, 0.009862025268375874, 0.025123562663793564, 0.2320149689912796, 0.18194878101348877, 0.5466431975364685]], [[1.0, 0.0, 0.0, 0.0, 0.0, 0.0], [0.820347785949707, 0.17965224385261536, 0.0, 0.0, 0.0, 0.0], [0.6261327266693115, 0.24446344375610352, 0.12940382957458496, 0.0, 0.0, 0.0], [0.07335364073514938, 0.11972012370824814, 0.2345440536737442, 0.5723822116851807, 0.0, 0.0], [0.04283761605620384, 0.05183696746826172, 0.03137889876961708, 0.8419477343559265, 0.03199884667992592, 0.0], [0.026221679523587227, 0.06694947183132172, 0.10330132395029068, 0.3308861255645752, 0.13968370854854584, 0.33295774459838867]]]], \"left_text\": [\"d1\", \"b\", \"a\", \"p\", \"\\u0259\", \"p\", \"EOW\"], \"right_text\": [\"d1\", \"b\", \"a\", \"p\", \"\\u0259\", \"p\", \"EOW\"]}}, \"default_filter\": \"all\"}"
      ],
      "text/plain": [
       "<IPython.core.display.Javascript object>"
      ]
     },
     "metadata": {},
     "output_type": "display_data"
    },
    {
     "data": {
      "application/javascript": [
       "/**\n",
       " * @fileoverview Transformer Visualization D3 javascript code.\n",
       " *\n",
       " *\n",
       " *  Based on: https://github.com/tensorflow/tensor2tensor/blob/master/tensor2tensor/visualization/attention.js\n",
       " *\n",
       " * Change log:\n",
       " *\n",
       " * 12/19/18  Jesse Vig   Assorted cleanup. Changed orientation of attention matrices.\n",
       " */\n",
       "\n",
       "requirejs(['jquery', 'd3'], function($, d3) {\n",
       "\n",
       "const TEXT_SIZE = 15;\n",
       "const BOXWIDTH = 110;\n",
       "const BOXHEIGHT = 22.5;\n",
       "const MATRIX_WIDTH = 115;\n",
       "const CHECKBOX_SIZE = 20;\n",
       "const TEXT_TOP = 30;\n",
       "const HEAD_COLORS = d3.scale.category10();\n",
       "\n",
       "var params = window.params;\n",
       "var config = {};\n",
       "initialize();\n",
       "\n",
       "function lighten(color) {\n",
       "  var c = d3.hsl(color);\n",
       "  var increment = (1 - c.l) * 0.6;\n",
       "  c.l += increment;\n",
       "  c.s -= increment;\n",
       "  return c;\n",
       "}\n",
       "\n",
       "function transpose(mat) {\n",
       "  return mat[0].map(function(col, i) {\n",
       "    return mat.map(function(row) {\n",
       "      return row[i];\n",
       "    });\n",
       "  });\n",
       "}\n",
       "\n",
       "function zip(a, b) {\n",
       "  return a.map(function (e, i) {\n",
       "    return [e, b[i]];\n",
       "  });\n",
       "}\n",
       "\n",
       "function render() {\n",
       "\n",
       "  var attnData = config.attention[config.filter];\n",
       "  var leftText = attnData.left_text;\n",
       "  var rightText = attnData.right_text;\n",
       "  var attentionHeads = attnData.attn[config.layer];\n",
       "\n",
       "  $(\"#vis svg\").empty();\n",
       "  $(\"#vis\").empty();\n",
       "\n",
       "  var height = config.initialTextLength * BOXHEIGHT + TEXT_TOP;\n",
       "  var svg = d3.select(\"#vis\")\n",
       "            .append('svg')\n",
       "            .attr(\"width\", \"100%\")\n",
       "            .attr(\"height\", height + \"px\");\n",
       "\n",
       "  var attData = [];\n",
       "  for (var i=0; i < config.nHeads; i++) {\n",
       "    var att = attentionHeads[i];\n",
       "    var att_trans = transpose(att);\n",
       "    attData.push(zip(att_trans, att));\n",
       "  }\n",
       "\n",
       "  renderText(svg, leftText, true, attData, 0);\n",
       "  renderText(svg, rightText, false, attData, MATRIX_WIDTH + BOXWIDTH);\n",
       "\n",
       "  renderAttentionHighlights(svg, attData);\n",
       "\n",
       "  svg.append(\"g\").classed(\"attentionHeads\", true);\n",
       "\n",
       "  renderAttention(svg, attentionHeads);\n",
       "\n",
       "  drawCheckboxes(0, svg, attentionHeads);\n",
       "\n",
       "}\n",
       "\n",
       "function renderText(svg, text, isLeft, attData, leftPos) {\n",
       "  // attData: list of tuples (att, att_trans), one for each layer. att and att_trans are attention matrics for each layer.\n",
       "  //           att is of shape [nHeads, source_len, target_len)\n",
       "  var id = isLeft ? \"left\" : \"right\";\n",
       "  var textContainer = svg.append(\"svg:g\")\n",
       "                         .attr(\"id\", id);\n",
       "\n",
       "  textContainer.append(\"g\").classed(\"attentionBoxes\", true)\n",
       "               .selectAll(\"g\")\n",
       "               .data(attData)\n",
       "               .enter()\n",
       "               .append(\"g\")\n",
       "               .selectAll(\"rect\")\n",
       "               .data(function(d) {return d;})\n",
       "               .enter()\n",
       "               .append(\"rect\")\n",
       "               .attr(\"x\", function(d, i, j) {\n",
       "                 return leftPos + boxOffsets(j);\n",
       "               })\n",
       "               .attr(\"y\", function(d, i) {\n",
       "                 return (+1) * BOXHEIGHT;\n",
       "               })\n",
       "               .attr(\"width\", BOXWIDTH / activeHeads())\n",
       "               .attr(\"height\", function() { return BOXHEIGHT; })\n",
       "               .attr(\"fill\", function(d, i, j) {\n",
       "                  return HEAD_COLORS(j);\n",
       "                })\n",
       "               .style(\"opacity\", 0.0);\n",
       "\n",
       "  var tokenContainer = textContainer.append(\"g\").selectAll(\"g\")\n",
       "                                    .data(text)\n",
       "                                    .enter()\n",
       "                                    .append(\"g\");\n",
       "\n",
       "  tokenContainer.append(\"rect\")\n",
       "                .classed(\"background\", true)\n",
       "                .style(\"opacity\", 0.0)\n",
       "                .attr(\"fill\", \"lightgray\")\n",
       "                .attr(\"x\", leftPos)\n",
       "                .attr(\"y\", function(d, i) {\n",
       "                  return TEXT_TOP + i * BOXHEIGHT;\n",
       "                })\n",
       "                .attr(\"width\", BOXWIDTH)\n",
       "                .attr(\"height\", BOXHEIGHT);\n",
       "\n",
       "  var textEl = tokenContainer.append(\"text\")\n",
       "                              .text(function(d) { return d; })\n",
       "                              .attr(\"font-size\", TEXT_SIZE + \"px\")\n",
       "                              .style(\"cursor\", \"default\")\n",
       "                              .style(\"-webkit-user-select\", \"none\")\n",
       "                              .attr(\"x\", leftPos)\n",
       "                              .attr(\"y\", function(d, i) {\n",
       "                                return TEXT_TOP + i * BOXHEIGHT;\n",
       "                              });\n",
       "\n",
       "  if (isLeft) {\n",
       "    textEl.style(\"text-anchor\", \"end\")\n",
       "           .attr(\"dx\", BOXWIDTH - 0.5 * TEXT_SIZE)\n",
       "           .attr(\"dy\", TEXT_SIZE);\n",
       "  } else {\n",
       "    textEl.style(\"text-anchor\", \"start\")\n",
       "           .attr(\"dx\", + 0.5 * TEXT_SIZE)\n",
       "           .attr(\"dy\", TEXT_SIZE);\n",
       "  }\n",
       "\n",
       "  tokenContainer.on(\"mouseover\", function(d, index) {\n",
       "    textContainer.selectAll(\".background\")\n",
       "                 .style(\"opacity\", function(d, i) {\n",
       "                   return i == index ? 1.0 : 0.0;\n",
       "                 });\n",
       "\n",
       "    svg.selectAll(\".attentionHeads\").style(\"display\", \"none\");\n",
       "\n",
       "    svg.selectAll(\".lineHeads\")  // To get the nesting to work.\n",
       "       .selectAll(\".attLines\")\n",
       "       .attr(\"stroke-opacity\", function(d) {\n",
       "          return 1.0;\n",
       "        })\n",
       "       .attr(\"y1\", function(d, i) {\n",
       "        if (isLeft) {\n",
       "          return TEXT_TOP + index * BOXHEIGHT + (BOXHEIGHT/2);\n",
       "        } else {\n",
       "          return TEXT_TOP + i * BOXHEIGHT + (BOXHEIGHT/2);\n",
       "        }\n",
       "     })\n",
       "     .attr(\"x1\", BOXWIDTH)\n",
       "     .attr(\"y2\", function(d, i) {\n",
       "       if (isLeft) {\n",
       "          return TEXT_TOP + i * BOXHEIGHT + (BOXHEIGHT/2);\n",
       "        } else {\n",
       "          return TEXT_TOP + index * BOXHEIGHT + (BOXHEIGHT/2);\n",
       "        }\n",
       "     })\n",
       "     .attr(\"x2\", BOXWIDTH + MATRIX_WIDTH)\n",
       "     .attr(\"stroke-width\", 2)\n",
       "     .attr(\"stroke\", function(d, i, j) {\n",
       "        return HEAD_COLORS(j);\n",
       "      })\n",
       "     .attr(\"stroke-opacity\", function(d, i, j) {\n",
       "      if (isLeft) {d = d[0];} else {d = d[1];}\n",
       "      if (config.headVis[j]) {\n",
       "        if (d) {\n",
       "          return d[index];\n",
       "        } else {\n",
       "          return 0.0;\n",
       "        }\n",
       "      } else {\n",
       "        return 0.0;\n",
       "      }\n",
       "     });\n",
       "\n",
       "    function updateAttentionBoxes() {\n",
       "      var id = isLeft ? \"right\" : \"left\";\n",
       "      var leftPos = isLeft ? MATRIX_WIDTH + BOXWIDTH : 0;\n",
       "      svg.select(\"#\" + id)\n",
       "         .selectAll(\".attentionBoxes\")\n",
       "         .selectAll(\"g\")\n",
       "         .selectAll(\"rect\")\n",
       "         .attr(\"x\", function(d, i, j) { return leftPos + boxOffsets(j); })\n",
       "         .attr(\"y\", function(d, i) { return TEXT_TOP + i * BOXHEIGHT; })\n",
       "         .attr(\"width\", BOXWIDTH/activeHeads())\n",
       "         .attr(\"height\", function() { return BOXHEIGHT; })\n",
       "         .style(\"opacity\", function(d, i, j) {\n",
       "            if (isLeft) {d = d[0];} else {d = d[1];}\n",
       "            if (config.headVis[j])\n",
       "              if (d) {\n",
       "                return d[index];\n",
       "              } else {\n",
       "                return 0.0;\n",
       "              }\n",
       "            else\n",
       "              return 0.0;\n",
       "         });\n",
       "    }\n",
       "\n",
       "    updateAttentionBoxes();\n",
       "  });\n",
       "\n",
       "  textContainer.on(\"mouseleave\", function() {\n",
       "    d3.select(this).selectAll(\".background\")\n",
       "                   .style(\"opacity\", 0.0);\n",
       "    svg.selectAll(\".attLines\").attr(\"stroke-opacity\", 0.0);\n",
       "    svg.selectAll(\".attentionHeads\").style(\"display\", \"inline\");\n",
       "    svg.selectAll(\".attentionBoxes\")\n",
       "       .selectAll(\"g\")\n",
       "       .selectAll(\"rect\")\n",
       "       .style(\"opacity\", 0.0);\n",
       "  });\n",
       "}\n",
       "\n",
       "function renderAttentionHighlights(svg, attention) {\n",
       "  var line_container = svg.append(\"g\");\n",
       "  line_container.selectAll(\"g\")\n",
       "                .data(attention)\n",
       "                .enter()\n",
       "                .append(\"g\")\n",
       "                .classed(\"lineHeads\", true)\n",
       "                .selectAll(\"line\")\n",
       "                .data(function(d){return d;})\n",
       "                .enter()\n",
       "                .append(\"line\").classed(\"attLines\", true);\n",
       "}\n",
       "\n",
       "function renderAttention(svg, attentionHeads) {\n",
       "  var line_container = svg.selectAll(\".attentionHeads\");\n",
       "  line_container.html(null);\n",
       "  for(var h=0; h<attentionHeads.length; h++) {\n",
       "    for(var s=0; s<attentionHeads[h].length; s++) {\n",
       "      for(var a=0; a<attentionHeads[h][s].length; a++) {\n",
       "        line_container.append(\"line\")\n",
       "        .attr(\"y1\", TEXT_TOP + s * BOXHEIGHT + (BOXHEIGHT/2))\n",
       "        .attr(\"x1\", BOXWIDTH)\n",
       "        .attr(\"y2\", TEXT_TOP + a * BOXHEIGHT + (BOXHEIGHT/2))\n",
       "        .attr(\"x2\", BOXWIDTH + MATRIX_WIDTH)\n",
       "        .attr(\"stroke-width\", 2)\n",
       "        .attr(\"stroke\", HEAD_COLORS(h))\n",
       "        .attr(\"stroke-opacity\", function() {\n",
       "          if (config.headVis[h]) {\n",
       "            return attentionHeads[h][s][a]/activeHeads();\n",
       "          } else {\n",
       "            return 0.0;\n",
       "          }\n",
       "        }());\n",
       "      }\n",
       "    }\n",
       "  }\n",
       "}\n",
       "\n",
       "// Checkboxes\n",
       "function boxOffsets(i) {\n",
       "  var numHeadsAbove = config.headVis.reduce(\n",
       "      function(acc, val, cur) {return val && cur < i ? acc + 1: acc;}, 0);\n",
       "  return numHeadsAbove * (BOXWIDTH / activeHeads());\n",
       "}\n",
       "\n",
       "function activeHeads() {\n",
       "  return config.headVis.reduce(function(acc, val) {\n",
       "    return val ? acc + 1: acc;\n",
       "  }, 0);\n",
       "}\n",
       "\n",
       "function drawCheckboxes(top, svg, attentionHeads) {\n",
       "  var checkboxContainer = svg.append(\"g\");\n",
       "  var checkbox = checkboxContainer.selectAll(\"rect\")\n",
       "                                  .data(config.headVis)\n",
       "                                  .enter()\n",
       "                                  .append(\"rect\")\n",
       "                                  .attr(\"fill\", function(d, i) {\n",
       "                                    return HEAD_COLORS(i);\n",
       "                                  })\n",
       "                                  .attr(\"x\", function(d, i) {\n",
       "                                    return i * CHECKBOX_SIZE;\n",
       "                                  })\n",
       "                                  .attr(\"y\", top)\n",
       "                                  .attr(\"width\", CHECKBOX_SIZE)\n",
       "                                  .attr(\"height\", CHECKBOX_SIZE);\n",
       "\n",
       "  function updateCheckboxes() {\n",
       "    checkboxContainer.selectAll(\"rect\")\n",
       "                              .data(config.headVis)\n",
       "                              .attr(\"fill\", function(d, i) {\n",
       "      var headColor = HEAD_COLORS(i);\n",
       "      var color = d ? headColor : lighten(headColor);\n",
       "      return color;\n",
       "    });\n",
       "  }\n",
       "\n",
       "  updateCheckboxes();\n",
       "\n",
       "  checkbox.on(\"click\", function(d, i) {\n",
       "    if (config.headVis[i] && activeHeads() == 1) return;\n",
       "    config.headVis[i] = !config.headVis[i];\n",
       "    updateCheckboxes();\n",
       "    renderAttention(svg, attentionHeads);\n",
       "  });\n",
       "\n",
       "  checkbox.on(\"dblclick\", function(d, i) {\n",
       "    // If we double click on the only active head then reset\n",
       "    if (config.headVis[i] && activeHeads() == 1) {\n",
       "      config.headVis = new Array(config.nHeads).fill(true);\n",
       "    } else {\n",
       "      config.headVis = new Array(config.nHeads).fill(false);\n",
       "      config.headVis[i] = true;\n",
       "    }\n",
       "    updateCheckboxes();\n",
       "    renderAttention(svg, attentionHeads);\n",
       "  });\n",
       "}\n",
       "\n",
       "function initialize() {\n",
       "  config.attention = params['attention'];\n",
       "  config.filter = params['default_filter'];\n",
       "  config.nLayers = config.attention[config.filter]['attn'].length;\n",
       "  console.log('num layers')\n",
       "  console.log(config.nLayers)\n",
       "  config.nHeads = config.attention[config.filter]['attn'][0].length;\n",
       "  config.headVis  = new Array(config.nHeads).fill(true);\n",
       "  config.layer = 0;\n",
       "  config.initialTextLength = Math.max(\n",
       "    config.attention[config.filter].right_text.length,\n",
       "    config.attention[config.filter].left_text.length\n",
       "    )\n",
       "  ;\n",
       "  console.log('initial text length')\n",
       "  console.log(config.initialTextLength)\n",
       "}\n",
       "\n",
       "$(\"#layer\").empty();\n",
       "for(var i=0; i<config.nLayers; i++) {\n",
       "  $(\"#layer\").append($(\"<option />\").val(i).text(i));\n",
       "}\n",
       "\n",
       "$(\"#layer\").on('change', function(e) {\n",
       "  config.layer = +e.currentTarget.value;\n",
       "  render();\n",
       "});\n",
       "\n",
       "$(\"#filter\").on('change', function(e) {\n",
       "  config.filter = e.currentTarget.value;\n",
       "  render();\n",
       "});\n",
       "\n",
       "render();\n",
       "\n",
       "});"
      ],
      "text/plain": [
       "<IPython.core.display.Javascript object>"
      ]
     },
     "metadata": {},
     "output_type": "display_data"
    }
   ],
   "source": [
    "print(\n",
    "    \"\".join([train_set[out_lang].ix_to_item[int(c)] for c in batch[in_lang][0]][1:-1]), \n",
    "    \"=>\", \n",
    "    \"\".join([train_set[out_lang].ix_to_item[int(c)] for c in batch[out_lang][0]][1:-1]))\n",
    "\n",
    "enc = False\n",
    "self = True\n",
    "\n",
    "if enc:\n",
    "    print(\"Encoder attention\")\n",
    "    head_view([local_enc_attn], local_input, local_input, prettify_tokens=False) \n",
    "else:\n",
    "    if self:\n",
    "        print(\"Decoder self attention\")\n",
    "        head_view([local_self_attn], local_prediction, local_prediction, prettify_tokens=False)\n",
    "    else:\n",
    "        print(\"Decoder attention\")\n",
    "        head_view([local_attn], local_prediction, local_input, prettify_tokens=False)\n",
    "\n"
   ]
  },
  {
   "cell_type": "code",
   "execution_count": null,
   "metadata": {},
   "outputs": [],
   "source": []
  },
  {
   "cell_type": "code",
   "execution_count": null,
   "metadata": {},
   "outputs": [],
   "source": []
  }
 ],
 "metadata": {
  "kernelspec": {
   "display_name": "Python 3",
   "language": "python",
   "name": "python3"
  },
  "language_info": {
   "codemirror_mode": {
    "name": "ipython",
    "version": 3
   },
   "file_extension": ".py",
   "mimetype": "text/x-python",
   "name": "python",
   "nbconvert_exporter": "python",
   "pygments_lexer": "ipython3",
   "version": "3.8.4"
  },
  "pycharm": {
   "stem_cell": {
    "cell_type": "raw",
    "metadata": {
     "collapsed": false
    },
    "source": []
   }
  }
 },
 "nbformat": 4,
 "nbformat_minor": 1
}
